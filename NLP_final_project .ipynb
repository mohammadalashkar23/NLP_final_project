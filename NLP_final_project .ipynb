{
 "cells": [
  {
   "cell_type": "markdown",
   "metadata": {},
   "source": [
    "#  ML with TF-IDF (movie rating)\n",
    "- read and prepare training data (read positive and negative data)\n",
    "- split training data into train and test\n",
    "- run different classifier\n",
    "    - naive Bayes\n",
    "    - random forests\n",
    "    - support vector machine\n",
    "    - multi- layer perceptron (MLP)\n",
    "- evaluate / compare\n",
    "\n",
    "### Tasks:\n",
    "- pre-process features in different ways, as in the previous task:  \n",
    "    - lower case, stemmer (porter, ours)\n",
    "    - replace (NER)\n",
    "    - compute TF-IDF / w2v (1, 2, .. n-grams)\n",
    "    - filter most important terms/reduce vector size\n",
    "- compare precision, recall accuracy of classifiers for vector sizes\n",
    "- modify parameters of classifiers\n",
    "- fold cross validation (using different training/testing) sets\n",
    "- document and report in a markup cell "
   ]
  },
  {
   "cell_type": "markdown",
   "metadata": {},
   "source": [
    "## TF-IDF\n",
    "- documents collection $D: \\{d_1 ... d_n\\}$\n",
    "- terms $t_i$\n",
    "\n",
    "-----\n",
    "Term Frequency (TF):\n",
    "- TF($t,d$) = $\\frac{\\mbox{Number of times term $t$ appears in document $d$}} {\\mbox{Total number of terms in the document $d$}}$\n",
    "\n",
    "Inverse Document Frequncy (IDF):\n",
    "\n",
    "- IDF($t,D$) = $log(\\frac{\\mbox{Number of documents $d$ in the corpus ($|d \\in D|$)}} {\\mbox{number of documents $d \\in D$ where the term $t$ appears}})$\n",
    "\n",
    "TF-IDF:\n",
    "- TF-IDF($t, d, D$) = TF($t, d$) * IDF($t,D$)\n",
    "\n",
    "-----\n",
    "Functions:\n",
    "- T = TF_IDF(D): Train TF_IDF structure for document collection D  \n",
    "- W = TF_IDFvector(D, T): Return vector of tf-idf values\n",
    "- L = labelVector(W, T, m=1): Return vector of labels, (m highest terms per document)\n",
    "- B = bestTFIDF(D, n=10): Return union of n highest-ranked terms per document in collection\n",
    "- nBestIndex(T, nBest): re-assign TF_IDF structure for nBest terms\n"
   ]
  },
  {
   "cell_type": "markdown",
   "metadata": {},
   "source": [
    "# This projects has markdown cells to document what is happinging in each cell in addition to some comments in the code\n",
    "## NOTE: Both of us will submit the python script but they are the same"
   ]
  },
  {
   "cell_type": "markdown",
   "metadata": {},
   "source": [
    "## Importing the Required Libraries"
   ]
  },
  {
   "cell_type": "code",
   "execution_count": 22,
   "metadata": {},
   "outputs": [],
   "source": [
    "import os\n",
    "from pathlib import Path\n",
    "import numpy as np\n",
    "import pandas as pd\n",
    "import matplotlib.pyplot as plt\n",
    "import string\n",
    "\n",
    "\n",
    "import nltk\n",
    "from nltk.tokenize import word_tokenize\n",
    "from nltk.tokenize import sent_tokenize\n",
    "from nltk.tag import pos_tag\n",
    "from nltk import ne_chunk\n",
    "\n",
    "# Mohammad\n",
    "from nltk.corpus import stopwords\n",
    "from nltk.stem import PorterStemmer\n",
    "\n",
    "from sklearn.feature_extraction.text import TfidfVectorizer\n",
    "from sklearn.metrics.pairwise import cosine_similarity\n",
    "from sklearn.metrics import accuracy_score\n",
    "from sklearn.metrics import plot_confusion_matrix\n",
    "from sklearn.metrics import classification_report\n",
    "from sklearn.metrics import ConfusionMatrixDisplay\n",
    "from sklearn.metrics import confusion_matrix\n",
    "\n",
    "from sklearn.decomposition import PCA\n",
    "import re\n",
    "from bs4 import BeautifulSoup\n"
   ]
  },
  {
   "cell_type": "markdown",
   "metadata": {},
   "source": [
    "# Read n files from directory and preprocess\n",
    "\n",
    "This code snippet defines a function `ReadSourceTok` and a helper function `preprocessSent`.\n",
    "\n",
    "## Function: `ReadSourceTok(dic, n=100, tag=False, verbose=0)`\n",
    "- **Purpose**: Reads and preprocesses documents from a specified directory.\n",
    "- **Returns**: A dictionary `D` where each document `doc` is represented as a list of preprocessed sentences `sent`, which in turn is represented as a list of preprocessed words `word`.\n",
    "\n",
    "## `preprocessSent(sent)`\n",
    "- **Purpose**: Preprocesses a single sentence.\n",
    "- **Parameters**:\n",
    "  - `sent`: Input sentence to be preprocessed.\n",
    "- **Returns**: The preprocessed sentence.\n",
    "\n",
    "## Preprocessing Steps:\n",
    "1. Remove HTML tags using BeautifulSoup.\n",
    "2. Remove punctuation and numbers using regular expressions.\n",
    "3. Tokenize the sentence and perform part-of-speech tagging.\n",
    "4. Handle contractions like \"n't\" and combine them with the following word.\n",
    "5. Remove named entities recognized by NLTK's named entity recognition.\n",
    "6. Remove stopwords and stem the remaining words using the Porter Stemmer algorithm.\n",
    "\n",
    "### Why Did We Choose These Steps?\n",
    "\n",
    "1. **Removing HTML Tags, Numbers, and Punctuation**:\n",
    "   - **Purpose**: HTML tags, numbers, and punctuation do not contribute to the semantic meaning of the text and only add noise to the data. Removing them helps reduce the dimensionality of vector.\n",
    "\n",
    "2. **Removing Stopwords**:\n",
    "   - **Purpose**: Stopwords are common words (e.g., \"the\", \"is\", \"and\") that occur frequently in the text but often do not carry significant meaning. Removing stopwords also reduces the size of the vector.\n",
    "\n",
    "3. **Handling Contractions (e.g., \"n't\")**:\n",
    "   - **Purpose**: Contractions like \"n't\" (e.g., \"not\") can significantly change the meaning of words (e.g., \"happy\" vs. \"not happy\"). Concatenating \"not\" with the following word (e.g., \"not_happy\") preserves the negation context, ensuring that the sentiment conveyed by the word is correctly captured during subsequent analysis.\n",
    "\n",
    "4. **Stemming**:\n",
    "   - **Purpose**: Stemming reduces words to their root or base form, which helps in capturing the core meaning of words and reduces the size of the vector (e.g using and use will be the same ).\n",
    "\n",
    "\n"
   ]
  },
  {
   "cell_type": "code",
   "execution_count": 23,
   "metadata": {},
   "outputs": [],
   "source": [
    "# Read n files from directory and preprocess\n",
    "# return: D[doc][sent][word]\n",
    "\n",
    "def ReadSourceTok(dic, n=100,  tag = False, verbose = 0) :\n",
    "    D = {}\n",
    "    i = 0\n",
    "\n",
    "    # Read sorted file names\n",
    "    for f in sorted(Path(dic).iterdir()):\n",
    "        if(verbose == 1): print(f.resolve())\n",
    "        if (i == n): break\n",
    "        i += 1\n",
    "        \n",
    "        with f.open('r', encoding='utf-8') as fhin: data = fhin.read()\n",
    "            \n",
    "        # get the file basename as index for document\n",
    "        b = os.path.basename(f).split(\".\")[0]\n",
    "        \n",
    "        # document is a string of tokens\n",
    "        D[b] = preprocessSent(data)\n",
    "    return D\n",
    "\n",
    "   \n",
    "def preprocessSent(sent):\n",
    "    soup = BeautifulSoup(sent, \"html.parser\")\n",
    "    sent = soup.get_text()\n",
    "    words = sent.split(' ')\n",
    "    for i, word in enumerate(words):\n",
    "        if \"'t\" in word:\n",
    "            words[i] = word.replace(\"'t\", \" not\")\n",
    "    sent = \" \".join(words)\n",
    "    sent = sent.translate(str.maketrans('', '', string.punctuation))\n",
    "    # Remove numbers\n",
    "    sent = re.sub(r'\\d+', '', sent)\n",
    "    tagged_words = pos_tag(words)\n",
    "    processed_words = []\n",
    "    i = 0\n",
    "    while i < len(tagged_words):\n",
    "        word, tag = tagged_words[i]\n",
    "        if word == \"not\" and i < len(tagged_words) - 1:\n",
    "            processed_words.append(word + \"_\" + tagged_words[i+1][0])\n",
    "            i += 2\n",
    "        else:\n",
    "            processed_words.append(word)\n",
    "            i += 1\n",
    "    tagged_words = pos_tag(processed_words)\n",
    "    named_entities = nltk.ne_chunk(tagged_words)\n",
    "    processed_words2 = []\n",
    "    for word in named_entities:\n",
    "        if not isinstance(word, nltk.tree.Tree):\n",
    "            # If it's a named entity, replace it with 'NER'\n",
    "            processed_words2.append(word[0].lower())\n",
    "    # add here additional preprocessing steps\n",
    "    # Remove stopwords\n",
    "    \n",
    "    stop_words = set(stopwords.words('english'))\n",
    "    processed_words2 = [word for word in processed_words2 if word not in stop_words]\n",
    "    porter_stemmer = PorterStemmer()\n",
    "    stemmed_words = [porter_stemmer.stem(word) for word in processed_words2]\n",
    "    \n",
    "    sent = \" \".join(stemmed_words)        \n",
    "    return sent\n"
   ]
  },
  {
   "cell_type": "markdown",
   "metadata": {},
   "source": [
    "### Example\n",
    "It is just a small exaple to see how the preprocessSent() function works"
   ]
  },
  {
   "cell_type": "code",
   "execution_count": 24,
   "metadata": {},
   "outputs": [
    {
     "data": {
      "text/plain": [
       "'process text custom stem algorithm'"
      ]
     },
     "execution_count": 24,
     "metadata": {},
     "output_type": "execute_result"
    }
   ],
   "source": [
    "example_text = \"Processing text with Porter Stemmer and custom stemming algorithm\"\n",
    "result= preprocessSent(example_text)\n",
    "result"
   ]
  },
  {
   "cell_type": "markdown",
   "metadata": {},
   "source": [
    "# Function to Label Sparse Vectors Based on Top Features\n",
    "The **labelVector** function labels a collection of sparse vectors by identifying the top features from each vector. \n",
    "\n",
    "## Parameters:\n",
    "1. **vectors**: An iterable of sparse vectors.\n",
    "2. **model**: An object that provides the feature names (like a TfidfVectorizer in scikit-learn).\n",
    "3. **m**: The number of top features to extract from each vector (default is 1).\n",
    "\n",
    "## Workflow:\n",
    "1. **Initialization:**\n",
    "    - Create an empty list labels to store the labels for each vector.\n",
    "2. **Processing Each Vector:**\n",
    "    - Loop through each vector in vectors.\n",
    "    - Determine the indices of the top m features with the highest values in the vector. This is done using np.argsort(vector.data)[-m:][::-1].\n",
    "    - Ensure the indices are within bounds by filtering out indices larger than the number of feature names.\n",
    "    - Extract the top terms using these indices: [(feature_names[vector.indices[i]], vector.data[i])]. This list comprehension pairs the feature names with their corresponding values.\n",
    "    - Sort the top terms by their values in descending order using top_terms.sort(key=lambda x: x[1], reverse=True).\n",
    "    - Extract the feature names from the sorted list of top terms to get the top labels.\n",
    "3. **Appending to Labels:**\n",
    "    - Append the list of top labels to the labels list for each vector.\n",
    "4. **Return:**\n",
    "    - The function returns the labels list containing the top labels for each vector.\n",
    "\n",
    "## How did we use this function?\n",
    " We were trying to get the m best words in the positive documents and negative ones (according to their TFIDF scores) and then refeed them to the machine from the beginning to make judgements later based on these words only instead of all the words in the documents. This approach obviously reduced the size of the vector and helped us read more and more files as it solved the space constraint, but we noticed that the accuracy dropped significantly as expected (to 0.4 or less).  "
   ]
  },
  {
   "cell_type": "code",
   "execution_count": 49,
   "metadata": {},
   "outputs": [],
   "source": [
    "def labelVector(vectors, model, m=1): \n",
    "    labels = []\n",
    "    feature_names = model.get_feature_names()\n",
    "    for vector in vectors:\n",
    "        top_indices = vector.argsort()[-m:][::-1]\n",
    "        top_terms = [(feature_names[i], vector[i]) for i in top_indices]\n",
    "        top_terms.sort(key=lambda x: x[1], reverse=True)\n",
    "        top_labels = [term[0] for term in top_terms]\n",
    "        labels.append(top_labels)\n",
    "    return labels"
   ]
  },
  {
   "cell_type": "markdown",
   "metadata": {},
   "source": [
    "### Reading Files\n",
    "\n",
    "We read a total of 1600 documents( 800 positive and 800 negative). Due to resource limitations on this server, we were unable to read more documents. However, by performing data cleaning and removing unnecessary words during the preprocessing step, we were able to increase the number of documents we could process to 1600. \n"
   ]
  },
  {
   "cell_type": "code",
   "execution_count": 26,
   "metadata": {},
   "outputs": [
    {
     "name": "stderr",
     "output_type": "stream",
     "text": [
      "/usr/local/lib/python3.6/site-packages/bs4/__init__.py:439: MarkupResemblesLocatorWarning: The input looks more like a filename than markup. You may want to open this file and pass the filehandle into Beautiful Soup.\n",
      "  MarkupResemblesLocatorWarning\n"
     ]
    },
    {
     "name": "stdout",
     "output_type": "stream",
     "text": [
      "#Pos:800 #words in Docs:604412\n",
      "#Neg:800 #words in Docs:589626\n",
      "#Sum:1600 #words in Docs:1194038\n"
     ]
    }
   ],
   "source": [
    "# add TF-IDF model for pos and neg documents\n",
    "from sklearn.decomposition import IncrementalPCA\n",
    "# number of docs to read\n",
    "nDocs = 800\n",
    "\n",
    "#initialize \n",
    "D1 = N1 = P1 = {}\n",
    "\n",
    "# Read positive documents \n",
    "P1 = ReadSourceTok(\"/data/critt/shared/resources/aclImdb/test/pos/\", n=nDocs, tag=False)\n",
    "\n",
    "# Read negative documents \n",
    "N1 = ReadSourceTok(\"/data/critt/shared/resources/aclImdb/test/neg/\", n=nDocs, tag=False)\n",
    "\n",
    "# join the Pos and the Neg corpus\n",
    "D1 = {**P1,**N1}\n",
    "\n",
    "print(f\"#Pos:{len(P1)} #words in Docs:{len([w for d in P1.keys() for s in P1[d] for w in s])}\")\n",
    "print(f\"#Neg:{len(N1)} #words in Docs:{len([w for d in N1.keys() for s in N1[d] for w in s])}\")\n",
    "print(f\"#Sum:{len(D1)} #words in Docs:{len([w for d in D1.keys() for s in D1[d] for w in s])}\")\n"
   ]
  },
  {
   "cell_type": "markdown",
   "metadata": {},
   "source": [
    "### Code Explanation:\n",
    "\n",
    "\n",
    "1. **Creation of TF-IDF Vectorizer**:\n",
    "   - A TF-IDF vectorizer (`tfidf`) is created with unigram (1-gram) range. This means that only single words are considered as features for vectorization.\n",
    "   \n",
    "2. **Reasoning for Using Unigram Range**:\n",
    "   - The decision to use a unigram range is based on the preprocessing steps performed earlier. By removing stopwords, many meaningful sequences such as \"very good\" have been broken. Additionally, by concatenating \"not\" with the following word (e.g., \"not_good\"), the two words are treated as one token with the full meaning of a bigram (2-gram), such as \"not good\" = \"bad\".\n",
    "   - Therefore, there is no need to use more than one gram in the TF-IDF vectorization process, as the preprocessing steps have already handled the meaningful combinations of words effectively.\n"
   ]
  },
  {
   "cell_type": "code",
   "execution_count": 29,
   "metadata": {},
   "outputs": [
    {
     "name": "stdout",
     "output_type": "stream",
     "text": [
      "#Sum:1600 #words in Docs:1194038\n",
      "Length of Tfidf vectors: 17593\n"
     ]
    }
   ],
   "source": [
    "import numpy as np\n",
    "\n",
    "print(f\"#Sum:{len(D1)} #words in Docs:{len([w for d in D1.keys() for s in D1[d] for w in s])}\")\n",
    "# tfidf vector 1  grams\n",
    "tfidf = TfidfVectorizer(ngram_range=(1,1))\n",
    "\n",
    "# Learn vocabulary and idf from P1 and N1 documents\n",
    "tfidf.fit(D1.values())\n",
    "\n",
    "print(f\"Length of Tfidf vectors: {len(tfidf.get_feature_names())}\")\n",
    " \n",
    "# Transform P1 documents to document-term matrix.\n",
    "Pos1 = tfidf.transform(P1.values())\n",
    "\n",
    "# Transform N1 documents to document-term matrix.\n",
    "Neg1 = tfidf.transform(N1.values())\n",
    "# Transform Pos1 and Neg1 documents to document-term matrix.\n",
    "\n",
    "Ntr1 = Neg1.toarray()  # Convert to dense array before transforming\n",
    "Ptr1 = Pos1.toarray() # Convert to dense array before transforming\n"
   ]
  },
  {
   "cell_type": "code",
   "execution_count": 30,
   "metadata": {},
   "outputs": [
    {
     "name": "stdout",
     "output_type": "stream",
     "text": [
      "#Positive labels:[['theater', 'coax'], ['golf', 'open'], ['class', 'golf'], ['fabulous', 'job'], ['prejudic', 'golf'], ['golfer', 'golf'], ['drug', 'himself'], ['cultur', 'aspect'], ['depress', 'movi'], ['identity', 'lennon'], ['drug', 'channel'], ['spoli', 'mesmerizing'], ['foreign', 'loophol'], ['famili', 'hurt'], ['mental', 'health'], ['jia', 'film'], ['hunted', 'night'], ['porn', 'deterior'], ['memori', 'particularli'], ['desolate', 'thril'], ['woman', 'drive'], ['felix', 'cartoon'], ['deeper', 'love'], ['anim', 'silent'], ['shoe', 'boss'], ['chaplin', 'strip'], ['ham', 'cartoon'], ['cartoons', 'old'], ['havilland', 'flynn'], ['custer', 'command'], ['custer', 'militari'], ['dictatori', 'buttler'], ['custer', 'battlefield'], ['spoli', 'mesmerizing'], ['legend', 'custer'], ['custer', 'warner'], ['warner', 'dehavilland'], ['never', 'histor'], ['custer', 'war'], ['flynn', 'butler'], ['anti', 'histor'], ['battl', 'movi'], ['custer', 'indian'], ['custer', 'cav'], ['allow', 'film'], ['flynn', 'play'], ['west', 'carpetbagg'], ['flynn', 'streak'], ['havilland', 'wife'], ['custer', 'havilland'], ['custer', 'libby'], ['not_allow', 'photograph'], ['brilliant', 'favourit'], ['custer', 'gerri'], ['militari', 'war'], ['vera', 'dylan'], ['custer', 'flamboy'], ['custer', 'walsh'], ['custer', 'civil'], ['love', 'crazi'], ['wed', 'bu'], ['rate', 'proudly'], ['ditsi', 'mistaken'], ['alway', 'girl'], ['deep', 'seek'], ['callib', 'evita'], ['jon', 'cat'], ['phat', 'didnt'], ['definit', 'renting'], ['bronxi', 'throwaway'], ['fantastic', 'buster'], ['fumbl', 'puma'], ['aspirations', 'not_ag'], ['flop', 'success'], ['neg', 'humour'], ['madonna', 'loudon'], ['alani', 'rocks'], ['garfield', 'jon'], ['customers', 'alway'], ['madonna', 'play'], ['hit', 'fun'], ['madonna', 'credibl'], ['nyc', 'concert'], ['behold', 'gantry'], ['pirat', 'it'], ['rogu', 'thieves'], ['stand', 'warmest'], ['maximum', 'fuqua'], ['soccer', 'though'], ['adolesc', 'meet'], ['babe', 'bikini'], ['unrat', 'version'], ['element', 'unsettl'], ['girl', 'questions'], ['machinist', 'flute'], ['sisters', 'younger'], ['sister', 'stepmoth'], ['film', 'unlock'], ['su', 'ji'], ['footbal', 'see'], ['house', 'allow'], ['horror', 'movi'], ['forget', 'before'], ['ring', 'consid'], ['soo', 'mi'], ['sad', 'cry'], ['world', 'horror'], ['horror', 'without'], ['horror', 'sisters'], ['10', 'view'], ['hate', 'footbal'], ['short', 'artist'], ['horror', 'pair'], ['sister', 'tale'], ['opiemar', 'hongryeon'], ['eun', 'joo'], ['moth', 'step'], ['su', 'stepmoth'], ['tale', 'object'], ['ghost', 'detail'], ['sisters', 'tale'], ['horror', 'bit'], ['crazi', 'rent'], ['th', 'sisters'], ['copi', 'not_prev'], ['su', 'jeong'], ['radio', 'boy'], ['motiv', 'opinion'], ['nomination', 'cuba'], ['not_overplay', 'review'], ['smiling', 'everyon'], ['radio', 'jones'], ['jr', 'volunt'], ['strang', 'soft'], ['not_judg', 'differences'], ['world', 'we'], ['allow', 'not_depend'], ['gooding', 'poignant'], ['footbal', 'radio'], ['surprising', 'touching'], ['peopl', 'vulnerable'], ['realli', 'wouldn'], ['radio', 'grreat'], ['coach', 'understand'], ['amato', 'film'], ['radio', 'footbal'], ['radio', 'coach'], ['racism', 'warm'], ['nice', 'role'], ['radio', 'town'], ['radio', 'footbal'], ['gooding', 'spectacular'], ['radio', 'helloooooooooo'], ['esbjørn', 'viewer'], ['col', 'trial'], ['gorg', 'emanuelle'], ['affair', 'drama'], ['captain', 'command'], ['loyalti', 'resound'], ['remak', 'coupl'], ['use', 'sera'], ['locat', 'mixed'], ['hitchcock', 'suspens'], ['hitchcock', 'taxidermists'], ['think', 'version'], ['politician', 'score'], ['drag', 'footag'], ['day', 'hitchcock'], ['stewart', 'famou'], ['shall', 'sera'], ['version', '1956'], ['intern', 'remak'], ['hitchcock', 'scari'], ['mckenna', 'dr'], ['mckenna', 'song'], ['son', 'hitchcock'], ['hitchcock', 'mckenna'], ['strang', 'soft'], ['london', 'ambassador'], ['race', 'hitchcock'], ['ben', 'dori'], ['hitchcock', 'que'], ['hitchcock', 'happenings'], ['agent', 'sara'], ['sera', 'cantata'], ['music', 'career'], ['assassin', 'hitchcock'], ['hitchcock', 'wife'], ['video', 'home'], ['dr', 'mckenna'], ['hitchcock', 'drag'], ['song', 'hitchcock'], ['myers', 'aspir'], ['relat', 'funni'], ['alex', 'brian'], ['addit', 'inspir'], ['nev', 'warming'], ['gold', 'train'], ['train', 'thiev'], ['70', 'preachi'], ['train', 'superman'], ['superman', 'fleischer'], ['ship', 'ad'], ['canni', 'astonish'], ['ship', 'period'], ['perfectli', 'exposur'], ['honey', 'eo'], ['deciph', 'cutting'], ['effect', 'friend'], ['show', 'adult'], ['popular', 'chiller'], ['rememb', 'car'], ['velli', 'never'], ['villain', 'hate'], ['fu', 'tan'], ['robot', 'cyborg'], ['vindic', 'bargain'], ['wholesal', 'vindicator'], ['robocop', 'love'], ['lehman', 'fistfight'], ['union', 'immigr'], ['boyfriend', 'person'], ['professor', 'narrat'], ['drama', 'founded'], ['creightons', 'perki'], ['western', 'gem'], ['well', 'before'], ['hire', 'haunt'], ['western', 'best'], ['telegraph', 'jagger'], ['novel', 'led'], ['telegraph', 'westerns'], ['telegraph', 'jagger'], ['beller', 'rape'], ['vanc', 'outlaw'], ['telegraph', 'system'], ['western', 'union'], ['canadians', 'humans'], ['lead', 'perhap'], ['minor', 'fairi'], ['deformed', 'demented'], ['gay', 'fanat'], ['spectacular', 'desserts'], ['sequel', 'rapport'], ['quack', 'flaw'], ['horror', 'film'], ['barker', 'film'], ['mutant', 'shrink'], ['sequel', 'movi'], ['card', 'movi'], ['book', 'movi'], ['monster', 'peopl'], ['monster', 'horror'], ['inform', 'tie'], ['nightbreed', 'monsters'], ['school', '1982'], ['looked', 'monst'], ['good', 'unforgettable'], ['mask', 'scari'], ['mutant', 'midian'], ['nightbreed', 'boone'], ['type', 'mich'], ['monster', 'mayb'], ['drawback', 'references'], ['monster', 'castl'], ['monster', 'horribl'], ['shy', 'felt'], ['though', 'not_entir'], ['movi', 'too'], ['woman', 'long'], ['daili', 'minako'], ['love', '50'], ['nagasaki', 'hilli'], ['milk', 'tanaka'], ['soundtrack', 'american'], ['pick', 'misconceptions'], ['film', 'fine'], ['young', 'vantag'], ['outstand', 'pictur'], ['area', 'north'], ['high', 'day'], ['preach', 'relatable'], ['happening', '1960'], ['certainli', 'pooter'], ['track', 'it'], ['cochise', 'preach'], ['movi', 'favourit'], ['boyz', 'athlet'], ['affect', 'suprised'], ['variou', 'pivotal'], ['goodbye', 'not_pron'], ['psychedel', 'label'], ['sayer', 'maria'], ['may', 'twist'], ['twist', 'psychedelia'], ['exploit', 'pretti'], ['leroy', '1969'], ['sublim', 'experiment'], ['neighbour', 'season'], ['format', 'mini'], ['comedy', 'oneupmanship'], ['summ', 'max'], ['max', 'equilibrium'], ['endeavour', 'featur'], ['appart', 'end'], ['messenger', 'mamouni'], ['not_one', 'ponder'], ['eachoth', 'identities'], ['settl', 'lend'], ['saw', 'film'], ['unjustli', 'snobbish'], ['movi', 'majorli'], ['detailed', 'storie'], ['red', 'roug'], ['roses', 'neatly'], ['perverted', 'think'], ['tête', 'cassell'], ['sadness', 'innat'], ['french', 'littl'], ['phillipp', 'ecoffey'], ['game', 'player'], ['uk', 'schedul'], ['film', 'hitchcock'], ['alice', 'lisa'], ['love', 'lot'], ['max', 'alic'], ['unwinds', 'location'], ['film', 'ladi'], ['stunningli', 'picasso'], ['view', 'three'], ['godaw', 'appartement'], ['confid', 'haine'], ['mini', 'length'], ['short', 'bullet'], ['1982', 'onofrio'], ['coach', 'amaz'], ['championship', 'play'], ['cinema', 'trainspotting'], ['unchart', 'sage'], ['modern', 'euthanasia'], ['sparingly', 'slush'], ['india', 'kapur'], ['caste', 'woman'], ['account', 'devi'], ['seri', 'dvd'], ['focuss', 'marvellous'], ['triumph', 'necessari'], ['churn', 'fought'], ['strong', 'subject'], ['concern', 'depict'], ['short', 'joe'], ['cousin', 'uproari'], ['mcintire', 'highlights'], ['shemp', 'inherit'], ['shemp', 'slapstick'], ['oppenheimer', 'mini'], ['shemp', 'trio'], ['shemp', 'curly'], ['shemp', 'stoog'], ['digger', 'blades'], ['shemp', 'stoog'], ['pooh', 'stoog'], ['watch', 'wallop'], ['boy', 'obsessed'], ['camp', 'show'], ['wazi', 'juic'], ['oppenheimer', 'physicist'], ['summer', 'ha'], ['jewish', 'maid'], ['war', 'other'], ['movi', 'peggi'], ['soldier', 'not_th'], ['jewish', 'portray'], ['befriend', 'girl'], ['appear', 'tv'], ['twisti', 'surprised'], ['remaind', 'its'], ['region', 'seri'], ['leg', 'black'], ['ladd', 'key'], ['rariti', 'immediately'], ['nynke', 'react'], ['mis', '1900'], ['marriag', 'nynk'], ['societi', 'feminism'], ['circumstances', 'drama'], ['brain', 'arachnoid'], ['alan', 'drama'], ['develop', 'backstabbing'], ['dr', 'absolut'], ['howev', 'ago'], ['brain', 'damag'], ['disgust', 'humor'], ['gor', 'lowest'], ['llyod', 'dr'], ['taylor', 'ruler'], ['brain', 'bodi'], ['diner', 'stori'], ['hil', 'sequenc'], ['pppenheimer', 'bills'], ['gangsters', 'anna'], ['gurl', 'moreover'], ['mary', 'raped'], ['over', 'and'], ['campu', 'mary'], ['hastings', 'hast'], ['books', 'poirot'], ['alway', 'togeth'], ['locations', 'success'], ['bit', 'quit'], ['gen', 'bolt'], ['gilchrist', 'genuin'], ['mysteri', 'glee'], ['poirot', 'book'], ['murder', 'discrep'], ['poirot', 'favourit'], ['poirot', 'solicitor'], ['scarecrow', 'fake'], ['movi', 'music'], ['militari', 'armi'], ['unrealistic', 'quit'], ['seri', 'roots'], ['1980i', 'eastalgia'], ['stori', 'fail'], ['visuals', 'childish'], ['sector', 'wender'], ['clouds', 'visual'], ['percept', 'beginn'], ['postur', 'catwalk'], ['joyce', 'allud'], ['5s', 'silicon'], ['short', 'malkovich'], ['bbc', 'earthlink'], ['desir', 'flow'], ['interact', 'cannot'], ['film', 'kurosawa'], ['existenti', 'melodramatic'], ['notte', 'candy'], ['wenders', 'worst'], ['conjur', 'visual'], ['novel', 'critic'], ['antonioni', 'first'], ['beautiful', 'soft'], ['explosions', 'themselves'], ['wolff', 'yorker'], ['ghost', 'horror'], ['dread', 'investig'], ['paranorm', 'film'], ['horror', 'ghost'], ['horror', 'cult'], ['imaginations', 'glitches'], ['kobayashi', 'woman'], ['realli', 'provid'], ['movi', 'far'], ['link', 'film'], ['seri', 'today'], ['19784444', 'branch'], ['alway', 'monsters'], ['series', 'abl'], ['show', 'episod'], ['darkside', 'petit'], ['pioneer', 'frontiersman'], ['complexli', 'whimsey'], ['smorgasboard', 'patho'], ['captur', 'contrastingli'], ['stormar', 'archetyp'], ['product', 'not_avail'], ['somewher', 'perform'], ['lodge', 'stripper'], ['softcor', 'sex'], ['sex', 'sexi'], ['raunch', 'not_shar'], ['territory', 'faceless'], ['rachel', 'ha'], ['tiring', 'bigotry'], ['nativ', 'whitewolf'], ['don', 'not_com'], ['stanwyck', 'morgan'], ['bogosian', 'correctly'], ['bogosian', 'charact'], ['12', 'age'], ['movi', 'sex'], ['teenag', 'friend'], ['amongst', 'guy'], ['ha', 'sad'], ['soundtrack', 'kc'], ['movie', 'buy'], ['virgin', 'school'], ['sakall', 'waiter'], ['can', '80'], ['adult', 'moments'], ['soundtrack', 'pass'], ['guy', 'cring'], ['honest', 'movi'], ['incred', 'teenage'], ['gari', 'karen'], ['end', 'heartbroken'], ['gari', 'but'], ['formula', 'girl'], ['magazin', 'owner'], ['gari', 'film'], ['abort', 'som'], ['halfway', 'fast'], ['gary', 'rick'], ['rent', 'whimper'], ['heart', 'highschool'], ['sex', 'sudden'], ['poetic', 'interpret'], ['solemn', 'characters'], ['viridiana', 'ordet'], ['snow', 'flip'], ['sinc', 'rate'], ['loewenhielm', 'share'], ['th', 'mellow'], ['choic', 'question'], ['food', 'foodculture'], ['babette', 'feast'], ['village', 'depict'], ['god', 'show'], ['babette', 'serv'], ['feast', 'cook'], ['farm', 'greenstreet'], ['fuzz', 'dogma'], ['meal', 'food'], ['babett', 'flock'], ['grace', 'humbl'], ['deliveri', 'wondrous'], ['express', 'profund'], ['feast', 'love'], ['banquet', 'gastronomy'], ['feast', 'candle'], ['art', 'meal'], ['war', 'hero'], ['interpret', 'hear'], ['babett', 'babette'], ['dinesen', 'religi'], ['sister', 'chang'], ['profound', 'life'], ['feast', 'villag'], ['babette', 'true'], ['despit', 'poor'], ['disc', 'film'], ['price', 'prezzo'], ['fish', 'holiday'], ['western', 'spaghetti'], ['wrongli', 'oswald'], ['bacalov', 'killter'], ['scour', 'auction'], ['fists', 'not_diminish'], ['dole', 'roundli'], ['spi', 'vasilikov'], ['core', 'soft'], ['track', 'mistook'], ['softcor', 'chloe'], ['issweet', 'regulars'], ['hopefully', 'fir'], ['sex', 'explicit'], ['bodi', 'chloe'], ['deliv', 'alien'], ['alien', 'jillian'], ['husband', 'predictable'], ['wife', 'impregn'], ['abduct', 'undoubt'], ['alien', 'sex'], ['alien', 'easi'], ['slasher', 'blood'], ['whatwashethinking', 'scintilla'], ['estat', 'over'], ['limitations', 'hard'], ['outstand', 'dolbi'], ['ballerina', 'luck'], ['execut', 'predict'], ['lon', 'webber'], ['sever', 'scrutin'], ['fonda', 'bridget'], ['bochner', 'unmysteri'], ['keach', 'train'], ['lane', 'christma'], ['dion', 'kidder'], ['cojon', 'prefigur'], ['chat', 'spilane'], ['keach', '45'], ['crime', 'film'], ['dudes', 'nominated'], ['starrett', 'terrenc'], ['tuppence', 'earli'], ['christi', 'dealt'], ['book', 'christi'], ['farm', 'perfect'], ['kier', 'gang'], ['distribut', 'nichev'], ['wax', 'tolerance'], ['air', 'rockewel'], ['generations', 'show'], ['cartoon', 'dvd'], ['film', 'fleadh'], ['section', 'today'], ['sweet', 'comment'], ['spoiler', 'shower'], ['dickens', 'equival'], ['doll', 'kid'], ['doll', 'shock'], ['puppet', 'horror'], ['child', 'perhap'], ['saw', 'twice'], ['vacat', 'father'], ['supper', 'line'], ['gr8', 'wen'], ['gorgeou', 'love'], ['baha', 'james'], ['sloane', 'fiancee'], ['original', 'not_remot'], ['upcom', 'puppy'], ['original', 'hire'], ['14', 'borrow'], ['father', 'andre'], ['dreams', 'father'], ['teenag', 'father'], ['wild', 'father'], ['sometim', 'ager'], ['velvet', 'tip'], ['holiday', 'christma'], ['book', 'love'], ['velvet', 'fingersmith'], ['house', 'plan'], ['book', 'kitchen'], ['young', 'maud'], ['book', 'read'], ['mr', 'hate'], ['audienc', 'victrion'], ['stealer', 'opportunist'], ['histor', 'decent'], ['baby', 'farm'], ['ensemble', 'lovingli'], ['evince', 'breathing'], ['book', 'read'], ['fresh', 'victorian'], ['book', 'fingersmith'], ['adaption', 'book'], ['women', 'conflict'], ['maud', 'pearl'], ['lost', 'thoroughly'], ['adapt', 'act'], ['sloan', 'borrow'], ['tip', 'adapt'], ['also', 'charact'], ['humor', 'f0rs4k3n'], ['favorit', 'again'], ['dunn', 'skateboarder'], ['bam', 'surprisingli'], ['bam', 'vallo'], ['asshole', 'dumped'], ['cki', 'humor'], ['wait', 'jtcellphon'], ['famou', 'quaintness'], ['rent', 'definetli'], ['awesome', 'hilarious'], ['genius', 'gered'], ['cky', 'excellence'], ['raab', 'ass'], ['total', 'check'], ['film', 'behind'], ['falcone', 'haggard'], ['jilt', 'cheat'], ['grape', 'not'], ['farm', 'provid'], ['individu', 'cultur'], ['bam', 'like'], ['novak', 'porch'], ['not_suit', 'good'], ['knuckl', 'aaaaagh'], ['hilarious', 'watermelon'], ['bam', 'soundtrack'], ['movi', 'dunn'], ['danc', 'song'], ['larter', 'film'], ['98', 'marigold'], ['christmas', 'liz'], ['prem', 'number'], ['prem', 'danc'], ['bollywood', 'western'], ['coward', 'woolcott'], ['hecht', 'opportunity'], ['publish', 'spoilers'], ['noel', 'cora'], ['teacher', 'character'], ['cannes', 'misstep'], ['french', 'greatest'], ['refus', 'appeal'], ['movie', 'comment'], ['student', 'girl'], ['redefin', 'loath'], ['boris', 'judged'], ['depraved', 'care'], ['erika', 'half'], ['saw', 'scenario'], ['read', 'subtl'], ['piano', 'teacher'], ['cache', 'huppert'], ['connecticut', 'morgan'], ['razor', 'pocket'], ['anti', 'much'], ['book', 'pianiste'], ['erika', 'young'], ['swept', 'teacher'], ['emot', 'society'], ['generation', 'pianiste'], ['thesi', 'tellingly'], ['pianiste', 'jellinek'], ['pronunci', 'jew'], ['us', 'manipul'], ['score', 'work'], ['polit', 'backseat'], ['mislik', 'ussr'], ['shot', 'composed'], ['action', 'step'], ['glass', 'babi'], ['visual', 'gener'], ['sequenc', 'ralli'], ['reiter', 'quantum'], ['eisenstien', 'potempkin'], ['stanwyck', 'season'], ['odessa', 'octob'], ['potempkin', 'film'], ['messag', 'revolt'], ['movi', 'understand'], ['realli', 'film'], ['silent', 'score'], ['bronenoset', 'potyomkin'], ['silent', 'sad'], ['potemkin', 'revolution'], ['frenzi', 'textbook'], ['stanwyck', 'cook'], ['shot', 'eisenstein'], ['rmt', 'limey'], ['potemkin', 'warship'], ['czarist', 'potemkin'], ['potyomkin', 'battleship'], ['shortag', 'footag'], ['medium', 'montag'], ['stairs', 'film'], ['ross', 'sun'], ['ufo', 'chanc'], ['gardiner', 'morgan'], ['reasons', 'era'], ['look', 'models'], ['dopplegang', 'space'], ['aged', 'upn'], ['flight', 'earth'], ['anderson', 'planet'], ['sfx', 'planet'], ['record', 'mic'], ['niggl', 'whenev'], ['sun', 'earth'], ['column', 'stillmeadow'], ['logo', 'productions'], ['thinn', 'sun'], ['earth', 'fx'], ['anderson', 'doppelgänger'], ['interestingli', 'strongest'], ['thinnes', 'doppelganger'], ['space', 'theme'], ['sun', 'side'], ['surprisingli', 'pointed'], ['ninja', 'fight'], ['elizabeth', 'farm'], ['80', 'fun'], ['sho', 'kosugi'], ['ninja', 'ball'], ['ninja', 'ninjas'], ['copi', 'releas'], ['ninja', 'possess'], ['bennett', 'wear'], ['ninja', 'kill'], ['ninja', 'yamada'], ['erot', 'heroin'], ['feel', 'certainli'], ['radha', 'achiev'], ['ninja', 'metion'], ['art', 'firstenberg'], ['scienc', 'ride'], ['footage', 'foreign'], ['poster', 'content'], ['sa', 'favela'], ['neighborhood', 'documentari'], ['unsaf', 'enamor'], ['anderson', 'individu'], ['sá', 'favela'], ['connecticut', 'christma'], ['youth', 'drug'], ['song', 'movi'], ['lovelife', 'laughfest'], ['son', 'hoffman'], ['vs', 'simpl'], ['kramer', 'absolut'], ['ted', 'kramer'], ['billy', 'billi'], ['volatil', 'relationship'], ['kramer', 'ther'], ['dog', 'worker']]\n",
      "#Negative labels:[['costner', 'kutcher'], ['ice', 'heck'], ['homeless', 'nt'], ['nineti', 'ice'], ['pictur', 'qualiti'], ['mortuari', 'mosquito'], ['drink', 'blood'], ['fan', 'cutest'], ['talk', '50'], ['crawford', 'hair'], ['vomit', 'not_mean'], ['thriller', 'suspens'], ['drink', 'shue'], ['erect', 'tout'], ['weren', '80'], ['hero', 'jeep'], ['executioner', 'apocalyps'], ['mang', 'hunters'], ['kher', 'salwar'], ['gaynor', 'niven'], ['stinkaroo', 'insect'], ['killer', 'prey'], ['ask', 'suffici'], ['forest', 'ranger'], ['killer', 'woods'], ['prey', 'pointless'], ['slasher', 'natur'], ['prey', 'slasher'], ['prey', 'the'], ['wildlif', 'forest'], ['butchered', 'forward'], ['slasher', 'prey'], ['bad', 'lep'], ['hit', 'run'], ['prey', 'monster'], ['axe', 'mouth'], ['store', 'sell'], ['pets', 'reimbursed'], ['sicken', 'bathroom'], ['wouldn', 'terribl'], ['possibl', 'herd'], ['fraud', 'grow'], ['bedpan', 'listing'], ['story', 'littl'], ['behav', 'class'], ['filmmak', 'account'], ['movi', 'veng'], ['inconsist', 'til'], ['women', 'comment'], ['minutes', 'comprehension'], ['forewarned', 'tux'], ['breast', 'profound'], ['angst', 'movi'], ['horribl', 'graveyard'], ['think', 'cultists'], ['1986', 'schrecklich'], ['angela', 'teuton'], ['airway', 'plane'], ['author', 'strang'], ['bridg', 'captured'], ['tank', 'rows'], ['skyline', 'smoggi'], ['cowboy', 'shower'], ['sooooo', 'hubby'], ['sutherland', 'man'], ['soundtrack', 'produc'], ['businessmen', 'three'], ['spite', 'manag'], ['christie', 'nile'], ['cristoph', 'inevitably'], ['publicly', 'cliched'], ['bolts', 'fireballs'], ['bad', 'ancient'], ['mediocrity', 'ferrigno'], ['king', 'mino'], ['videogam', 'tier'], ['jp3', 'dinosaur'], ['gang', 'fire'], ['mani', 'jp1'], ['neil', 'dern'], ['graves', 'swiss'], ['dinosaur', 'reli'], ['numb', 'idea'], ['eat', 'dinosaurs'], ['dino', 'standpointeven'], ['jurass', 'dino'], ['island', 'characters'], ['insipid', 'bellybutton'], ['control', 'team'], ['island', 'unthril'], ['thought', 'suspens'], ['previou', 'jp'], ['women', 'white'], ['size', 'sell'], ['model', 'sorri'], ['season', 'tyra'], ['bums', 'temer'], ['plotless', 'goodfellas'], ['melodrama', 'com'], ['law', 'propaganda'], ['rumble', 'street'], ['selv', 'sketchi'], ['wow', 'plan'], ['grader', 'nap'], ['gang', 'leader'], ['dorff', 'gang'], ['imagin', 'cannot'], ['kove', 'corrupt'], ['curves', 'thing'], ['guard', 'wrist'], ['gang', 'outsid'], ['not_expect', 'mean'], ['rodeo', 'bull'], ['psychodrama', 'collaps'], ['good', 'movi'], ['lost', 'bluntly'], ['thouroughli', 'awful'], ['movi', 'look'], ['suppose', 'cack'], ['crappi', 'risky'], ['horror', 'film'], ['terribl', 'll'], ['neighbourhood', 'kill'], ['budget', 'recent'], ['darkhunt', 'auto'], ['terrible', 'film'], ['choo', 'dead'], ['hunter', 'bounti'], ['unclaim', 'soul'], ['dialog', 'time'], ['moggi', 'ponderous'], ['whatev', 'crazi'], ['open', 'bett'], ['provocation', 'gunfire'], ['pretenti', 'fu'], ['bor', 'frenchmen'], ['yes', 'major'], ['walker', 'gardner'], ['song', 'weill'], ['was', 'ngs'], ['risk', 'match'], ['they', 'superpow'], ['vapid', 'narcissist'], ['show', 'blank'], ['referenc', 'dw3'], ['show', 'gomez'], ['sing', 'wood'], ['wagner', 'wood'], ['vampire', 'vampir'], ['coffin', 'vampir'], ['book', 'renauld'], ['show', 'reba'], ['seri', 'ditsi'], ['reba', 'stupid'], ['reba', 'comedi'], ['punk', 'window'], ['suck', 'show'], ['show', 'reba'], ['jean', 'everi'], ['connor', 'roseanne'], ['garbage', 'lower'], ['reba', 'sitcoms'], ['band', 'album'], ['massacre', 'please'], ['crazy', 'clock'], ['movi', 'decid'], ['bronson', 'up'], ['ultra', 'slasher'], ['slumber', 'massacr'], ['charlie', 'made'], ['cours', 'party'], ['woah', 'mean'], ['killer', 'mask'], ['lack', 'expect'], ['slumber', 'movi'], ['wiggly', 'like'], ['cop', 'wholesom'], ['death', 'wish'], ['librari', 'sixti'], ['lethargic', 'duke'], ['sally', 'vile'], ['gang', 'randi'], ['black', 'fraser'], ['owner', 'hidden'], ['disc', 'hotel'], ['thriller', 'mafioso'], ['juror', 'the'], ['asante', 'whalley'], ['sleep', 'lullaby'], ['hell', 'furiou'], ['discuss', 'report'], ['noth', 'mongers'], ['brainwash', 'save'], ['movie', 'masses'], ['religi', 'mostli'], ['pure', 'psycho'], ['christian', 'film'], ['religion', 'believ'], ['atheist', 'explan'], ['quatrilho', 'fishermen'], ['investig', 'subject'], ['felt', 'sublimin'], ['abduct', 'maker'], ['raptur', 'represent'], ['christian', 'believ'], ['christian', 'flicks'], ['fuzzy', 'newbies'], ['holier', 'thou'], ['messag', 'movi'], ['abduct', 'piano'], ['film', 'alpha'], ['church', 'see'], ['scifi', 'user'], ['jc', 'believ'], ['church', 'fine'], ['poorli', 'skeptic'], ['direction', 'bad'], ['quickli', 'fi'], ['sunday', 'church'], ['christian', 'movi'], ['unnecessari', 'please'], ['commentari', 'bad'], ['emili', 'sara'], ['art', 'say'], ['haven', 'strata'], ['hulkster', 'laugh'], ['horribl', 'mcmahon'], ['wrestler', 'severence'], ['wrestl', 'fan'], ['bar', 'gullibl'], ['lol', 'wrestl'], ['atlanta', 'rewrit'], ['bar', 'hold'], ['he', 'performance'], ['hogan', 'promoter'], ['1989', 'standard'], ['wrestl', 'network'], ['wrestl', 'champion'], ['zeus', 'wrestler'], ['stake', 'wrestl'], ['rol', 'character'], ['preview', 'thug'], ['high', 'escap'], ['prominence', 'dispens'], ['concoct', 'random'], ['rehab', 'program'], ['motion', '8mm'], ['suspici', 'ones'], ['green', 'big'], ['hoper', 'goat'], ['guttenberg', 'team'], ['ducks', 'younger'], ['teacher', 'rival'], ['there', 'money'], ['rockbart', 'forbidden'], ['vargas', 'chilenian'], ['bob', 'jean'], ['princess', 'cartoon'], ['first', 'anim'], ['wig', 'parent'], ['dialog', 'sappi'], ['broad', 'overli'], ['limit', 'forgiving'], ['dictat', 'racketeer'], ['lau', 'cheng'], ['melodi', 'half'], ['depression', 'detached'], ['worst', 'blindingli'], ['android', 'film'], ['suprem', 'bad'], ['space', 'not_feel'], ['galaxina', 'critic'], ['bunnyfluff', 'snigger'], ['choral', 'which'], ['stratton', 'pictur'], ['acting', 'davidson'], ['trek', 'understand'], ['odyssey', 'evok'], ['screentim', 'stratten'], ['verghese', 'patients'], ['mumbl', 'improvement'], ['value', 'two'], ['cavemen', 'frog'], ['book', 'miyazaki'], ['unintellig', 'total'], ['accompanist', 'unconsciousness'], ['pretty', 'trees'], ['adapt', 'fear'], ['brother', 'art'], ['blue', 'eye'], ['movi', 'bad'], ['demon', 'fx'], ['demon', 'gore'], ['pms', 'not_many'], ['zombi', 'cars'], ['crap', 'wanna'], ['demon', 'report'], ['demon', 'bava'], ['uneasili', 'subplots'], ['hustler', 'dialog'], ['commentary', 'social'], ['tv', 'awards'], ['film', 'charact'], ['feedback', 'maudlin'], ['novel', 'maddening'], ['art', 'sort'], ['show', 'lagass'], ['sex', 'brother'], ['boredom', 'schneider'], ['philosophizing', 'embroil'], ['curio', 'audibl'], ['glide', 'blue'], ['anti', 'confus'], ['ambul', 'fake'], ['show', 'cheater'], ['cheaters', 'episod'], ['men', 'male'], ['violent', 'bother'], ['lowbrow', 'highbrow'], ['tortur', 'chainsaw'], ['snuff', 'shock'], ['hustler', 'underground'], ['subplot', 'll'], ['minut', 'agent'], ['sick', 'director'], ['shock', 'ridicul'], ['killers', 'surveillance'], ['craft', 'appli'], ['not_famili', 'lynches'], ['agent', 'whole'], ['surveil', 'movi'], ['structured', 'hdnet'], ['cook', 'host'], ['becom', 'part'], ['buy', 'stickers'], ['hospit', 'mt'], ['hospit', 'alison'], ['blah', 'sully'], ['edgi', 'cancel'], ['hot', 'gone'], ['show', 'continu'], ['show', 'tonight'], ['terribl', 'baboon'], ['gun', 'hit'], ['rachel', 'shut'], ['awful', 'bullock'], ['friend', 'comment'], ['scavang', 'spotti'], ['cam', 'rack'], ['cover', 'name'], ['limburg', 'not_learn'], ['fishi', 'what'], ['dvd', 'complied'], ['66p', '66'], ['guy', 'metal'], ['rachael', 'show'], ['awful', 'sound'], ['whaddaya', 'dad'], ['nois', 'background'], ['bio', 'bonu'], ['movi', 'movie'], ['gunshot', 'hallway'], ['but', 'not_even'], ['soo', 'really'], ['guns', 'occup'], ['action', 'one'], ['area', 'demand'], ['horrible', 'ha'], ['butterfli', 'exceptions'], ['dog', 'interesting'], ['screentime', 'involvement'], ['on', 'headlin'], ['movie', 'small'], ['rate', 'user'], ['hafta', 'libraries'], ['red', 'guts'], ['porno', 'littl'], ['kahn', 'behavior'], ['twain', 'year'], ['flimsi', 'incit'], ['zombie', 'zombi'], ['zombi', 'zombies'], ['reports', 'idea'], ['zombi', 'flail'], ['muslim', 'outbreak'], ['commerci', 'redeem'], ['meant', 'not_meant'], ['not', 'not_comparing'], ['ugli', 'whales'], ['humour', 'remak'], ['stupid', 'kim'], ['dvd', 'ebay'], ['paus', 'found'], ['version', 'accent'], ['physic', 'molly'], ['cylon', 'ship'], ['babi', 'show'], ['biker', 'jocelyn'], ['joke', 'poor'], ['kahn', 'nathaniel'], ['pot', 'independ'], ['dumb', 'fun'], ['marijuana', 'weed'], ['road', 'indifferent'], ['see', 'blacks'], ['weed', 'movi'], ['nobodi', 'rock'], ['puppet', 'lord'], ['puppet', 'blade'], ['puppet', 'totems'], ['boys', 'hermit'], ['totem', 'puppets'], ['puppet', 'psychic'], ['not_convincing', 'leatherface'], ['gay', '70s'], ['sex', '70'], ['minut', 'littl'], ['serial', 'furnitur'], ['posted', 'thrilled'], ['supposedli', 'interview'], ['non', 'past'], ['averag', 'interlac'], ['priest', 'exorc'], ['possess', 'demon'], ['exorc', 'seem'], ['across', 'aw'], ['valley', 'dialog'], ['wateri', 'stool'], ['possess', 'priest'], ['purgatori', 'tu'], ['possess', 'whether'], ['dad', 'terribl'], ['dissapointment', 'amateur'], ['priest', 'pederast'], ['possess', 'sleep'], ['dialog', 'exorc'], ['isobel', 'priest'], ['exorc', 'exorcism'], ['isabelle', 'priest'], ['fandom', 'fan'], ['puppet', 'ruin'], ['polit', 'sacrilege'], ['leftist', 'hell'], ['medal', 'executed'], ['cursor', 'whole'], ['dante', 'poke'], ['kubrick', 'may'], ['video', 'obsessives'], ['film', 'kubrick'], ['lloyd', 'adams'], ['number', 'tale'], ['catch', 'continu'], ['post', 'win'], ['sequel', 'movies'], ['avail', 'mundan'], ['bed', 'frame'], ['loud', 'music'], ['centr', 'decid'], ['hillbilli', 'abo'], ['famili', '15'], ['affleck', 'atrophied'], ['duff', 'page'], ['miser', 'feel'], ['buscemi', 'affleck'], ['not_believable', 'depress'], ['cultures', 'appreci'], ['bed', 'eat'], ['rambling', 'backstori'], ['poe', 'tobi'], ['poe', 'fellini'], ['belushi', 'cult'], ['noticed', 'manager'], ['wired', 'features'], ['narrat', 'chickli'], ['belushi', 'deathb'], ['belushi', 'misjudg'], ['woodward', 'book'], ['rent', 'bed'], ['drug', 'autopsi'], ['dialogu', 'trower'], ['screener', 'claims'], ['song', 'soundtrack'], ['stoner', 'somehow'], ['inkl', 'kindergarten'], ['scant', 'apprar'], ['nobodi', 'book'], ['before', 'not_equ'], ['morgan', 'hopper'], ['deathbed', 'sex'], ['script', 'beards'], ['mad', 'morgan'], ['shark', 'reveng'], ['shark', 'ha'], ['shark', 'disappoints'], ['corni', 'bad'], ['honeymoon', 'underwat'], ['shark', 'sub'], ['bullsh', 'film'], ['shark', 'submarin'], ['kinki', 'sex'], ['bad', 'meet'], ['car', 'touch'], ['fi', 'sci'], ['respect', 'debacl'], ['from', 'star'], ['togeth', 'pimpl'], ['arm', 'hdtv'], ['inane', 'wincing'], ['creat', 'chimpanze'], ['low', 'kid'], ['episod', 'review'], ['eater', 'landown'], ['nativ', 'respect'], ['evan', 'skelet'], ['surveyor', 'cool'], ['mean', 'co'], ['reli', 'chop'], ['cgi', 'use'], ['bone', 'eater'], ['better', 'earli'], ['watch', 'waster'], ['serl', 'zones'], ['eater', 'bone'], ['check', 'sheriff'], ['eater', 'bone'], ['hot', 'develop'], ['boy', 'connect'], ['book', 'leper'], ['version', '1972'], ['ie', 'book'], ['book', 'tree'], ['locke', 'quit'], ['episod', 'we'], ['featurett', 'monster'], ['prescott', 'dan'], ['monkey', 'fright'], ['mutat', 'creatur'], ['woods', 'sadly'], ['monster', 'however'], ['woods', 'wood'], ['gorilla', 'never'], ['dread', 'terribly'], ['monster', 'very'], ['abit', 'unfinish'], ['screen', 'monster'], ['spend', 'helmet'], ['boring', 'noth'], ['giant', 'on'], ['agar', 'hair'], ['slow', 'kung'], ['vampir', 'rathbone'], ['suprem', 'movi'], ['box', 'film'], ['vampir', 'awful'], ['fawn', 'teas'], ['horrible', 'riddl'], ['eject', 'criticism'], ['weapons', 'lit'], ['xx', 'do'], ['purpl', 'cape'], ['nauseating', 'don'], ['store', 'took'], ['poor', 'quilting'], ['crap', 'cut'], ['abl', 'chang'], ['fight', 'switches'], ['realli', 'narr'], ['laugh', 'vampir'], ['low', 'budget'], ['suck', 'assassin'], ['basement', 'vampir'], ['african', 'blade'], ['vampir', 'assassins'], ['location', 'fact'], ['mean', 'caus'], ['hooker', 'fellow'], ['gangster', 'dress'], ['cannonbal', 'slid'], ['game', 'kit'], ['soccer', 'extra'], ['veri', 'overacted'], ['adopt', 'dog'], ['dog', 'horrible'], ['jumbo', 'ludicrous'], ['interest', 'student'], ['hemingway', 'back'], ['toole', 'poor'], ['eighti', 'spano'], ['crichton', 'asid'], ['seagal', 'either'], ['prison', 'guard'], ['action', 'sayonara'], ['butt', 'kick'], ['he', 'fight'], ['ja', 'irrit'], ['hero', 'keep'], ['requir', 'contain'], ['seagal', 'action'], ['inmat', 'bunch'], ['tommi', 'pta'], ['not', 'kick'], ['prison', 'he'], ['machinegun', 'fight'], ['stereotypes', 'gratuit'], ['aveng', 'kaufman'], ['toxi', 'dark'], ['original', 'brainer'], ['bearli', 'differ'], ['sumo', 'movi'], ['toxi', 'gori'], ['nothing', 'crap'], ['not_watch', 'disast'], ['convo', 'mite'], ['famou', 'humor'], ['gay', 'not_veri'], ['kiss', 'annoy'], ['gratuit', 'week'], ['gay', 'say'], ['screenplay', 'hollywood'], ['movi', 'not'], ['poker', 'game'], ['kong', 'donkey'], ['game', 'poker'], ['darci', 'collins'], ['adapt', 'singl'], ['factor', 'vapor'], ['alien', 'copi'], ['deputi', 'nightbeast'], ['1951', 'monster'], ['terribl', 'style'], ['remote', 'dairi'], ['somebodi', 'not'], ['game', 'graphic'], ['director', 'avoid'], ['spider', 'superhero'], ['content', 'cuss'], ['light', 'coupl'], ['scari', 'send'], ['friend', 'movi'], ['crude', 'not_believ'], ['superhero', 'thought'], ['drake', 'movie'], ['meet', 'superhero'], ['tank', 'holiday'], ['13', 'movie'], ['for', 'trollop'], ['barrel', 'movi'], ['spoof', '1st'], ['glad', 'disappoint'], ['spoof', 'recent'], ['fugitive', 'ass'], ['99', 'dare'], ['idaho', 'karaok'], ['seriou', 'attempt'], ['flight', 'lame'], ['click', 'ribisi'], ['mayb', 'place'], ['empti', 'offer'], ['mod', 'squad'], ['basic', 'movi'], ['televis', 'ignorant'], ['barnes', 'cochran'], ['jackal', 'boot'], ['cool', 'noooooooo'], ['snack', 'awake'], ['magic', 'pilot'], ['look', 'old'], ['whenever', 'quarters'], ['squad', 'danes'], ['beyond', 'not_scream'], ['cool', 'hip'], ['flaw', 'wardrobes'], ['number', 'walk'], ['seri', 'dane'], ['not_onc', 'colors'], ['petit', 'advis'], ['so', 'discussions'], ['yr', 'drove'], ['mod', 'squad'], ['offic', 'sort'], ['mod', 'squad'], ['auteur', 'note'], ['camp', 'clich'], ['camp', 'nudity'], ['whatsoever', 'terribl'], ['disappoint', 'promis'], ['friend', 'drug'], ['rock', 'detroit'], ['actual', 'dialogu'], ['rock', 'roll'], ['stuff', 'oevre'], ['movi', 'departed'], ['invisible', 'monoton'], ['kid', 'station'], ['pull', 'off'], ['bugged', 'stirring'], ['island', 'violenc'], ['cut', 'someth'], ['jazz', 'club'], ['hauer', 'pregnant'], ['sing', 'element'], ['felt', 'dribble'], ['enchanted', 'background'], ['ami', 'slew'], ['montalban', 'goon'], ['border', 'dull'], ['arthur', 'suddenli'], ['oh', 'hellrais'], ['dog', 'without'], ['drop', 'smithe'], ['hell', 'credit'], ['hell', 'cenobit'], ['antholog', 'defending'], ['demons', 'evil'], ['moon', 'full'], ['blah', 'pinhead'], ['umpteenth', 'naff'], ['hellraiser', 'influenc'], ['franchis', 'box'], ['wretch', 'inferno'], ['merchant', 'rant'], ['37', 'filmmak'], ['bloodlin', 'still'], ['dancer', 'ballet'], ['birth', 'oper'], ['deform', 'pave'], ['arrog', 'cheap'], ['point', 'dialogu'], ['conflict', 'story'], ['lame', 'accurate'], ['conclus', 'cinemaphotographi'], ['th', 'sean'], ['film', 'jock'], ['movi', 'crore'], ['god', 'film'], ['english', 'amaz'], ['english', 'dub'], ['poor', 'song'], ['no', 'movi'], ['shown', 'watch'], ['himesh', 'crow'], ['reshammiya', 'scenes'], ['himesh', 'wrong'], ['37', 'youth'], ['not_put', 'actu'], ['hr', 'hold'], ['000', 'himesh'], ['letter', 'censored'], ['rubber', 'laugh'], ['scriptwritt', 'filming'], ['car', 'bad'], ['lame', 'fang'], ['hiss', 'engel'], ['vampir', 'film'], ['afterward', 'not'], ['mere', 'howev'], ['not_entertaining', 'vampires'], ['smile', 'movi'], ['vampir', 'quit'], ['caven', 'howarth'], ['snake', 'men'], ['fight', 'overs'], ['snake', 'geek'], ['shoot', 'baad'], ['closeup', 'tha'], ['movi', 'applaud'], ['improv', 'realli'], ['troy', 'execut'], ['mastermind', 'doesn'], ['shatter', 'scepter'], ['choos', 'bad'], ['sidekick', 'lines'], ['concur', 'money'], ['hell', 'neame'], ['bad', 'cop'], ['54', 'centuries'], ['teenager', 'deal'], ['dr', 'weenick'], ['annoy', 'plu'], ['not_som', 'stunk'], ['not_finish', 'exemplifi'], ['operas', 'discrimination'], ['dumbfound', 'crossroads'], ['men', 'premise'], ['men', 'man'], ['genet', 'male'], ['epic', 'third'], ['fi', 'sci'], ['elephant', '37'], ['mistak', 'past'], ['convinc', 'questionnair'], ['viru', 'men'], ['un', 'happening'], ['subject', 'matter'], ['conflict', 'harper'], ['stock', 'ceo'], ['alecbaldwin', 'not_strong'], ['tire', 'better'], ['carrey', 'fletcher'], ['im', 'understand']]\n",
      "#Docs vector Pos:(800, 17593) #Docs vector Neg:(800, 17593) \n"
     ]
    }
   ],
   "source": [
    "Pos_labels = labelVector(Ptr1,tfidf,2)\n",
    "Neg_labels = labelVector(Ntr1,tfidf,2)\n",
    "print(f\"#Positive labels:{Pos_labels}\")\n",
    "print(f\"#Negative labels:{Neg_labels}\")\n",
    "print(f\"#Docs vector Pos:{Ptr1.shape} #Docs vector Neg:{Ntr1.shape} \")"
   ]
  },
  {
   "cell_type": "markdown",
   "metadata": {},
   "source": [
    "### PCA Dimensionality Reduction:\n",
    "1. **Application of PCA**:\n",
    "   - PCA (Principal Component Analysis) is applied to the features (`X`) to reduce the dimensionality of the data while preserving the most important information.\n",
    "   - The number of components is specified as `n_components=200`, indicating that PCA should retain 200 principal components.\n",
    "2. **Why 200?**\n",
    "   - after considering most of the options for the `n_components' , 200 was the best option form most of the classifiers since it gave the best accuracies for most of them. This number were the best considering 800 docs for each type and considering the same perpross steps\n",
    "   \n"
   ]
  },
  {
   "cell_type": "code",
   "execution_count": 31,
   "metadata": {},
   "outputs": [
    {
     "name": "stdout",
     "output_type": "stream",
     "text": [
      "         PCA_0     PCA_1     PCA_2     PCA_3     PCA_4     PCA_5     PCA_6  \\\n",
      "0     0.054057 -0.073073  0.100591 -0.013354 -0.028381 -0.055616 -0.018246   \n",
      "1    -0.106017  0.027426  0.020031 -0.010995  0.052823  0.029953 -0.048126   \n",
      "2    -0.090625 -0.054957  0.074834  0.014625  0.029072 -0.017850  0.001629   \n",
      "3     0.084769  0.083155  0.081624  0.021091  0.034986 -0.034290  0.040298   \n",
      "4    -0.082186  0.001183  0.102717  0.041543  0.032456 -0.034253 -0.000146   \n",
      "...        ...       ...       ...       ...       ...       ...       ...   \n",
      "1595  0.066213 -0.017877 -0.072605 -0.010025  0.015686  0.013605  0.031906   \n",
      "1596 -0.004913 -0.011009  0.019648  0.018793 -0.052124 -0.032732 -0.022572   \n",
      "1597  0.094854 -0.047298  0.039689  0.023226  0.015536 -0.046977  0.005818   \n",
      "1598 -0.012139  0.009943 -0.005844 -0.005769  0.064222  0.001411  0.065654   \n",
      "1599  0.109990 -0.001594 -0.007182 -0.054473 -0.052976 -0.008976  0.030643   \n",
      "\n",
      "         PCA_7     PCA_8     PCA_9  ...   PCA_191   PCA_192   PCA_193  \\\n",
      "0     0.004481  0.021843  0.041767  ... -0.013400  0.009941  0.032957   \n",
      "1     0.061796  0.034830  0.041429  ... -0.048974 -0.007424  0.072140   \n",
      "2    -0.036196  0.023734  0.014621  ... -0.071116  0.061993  0.004946   \n",
      "3     0.026129  0.002320 -0.058210  ... -0.018723 -0.034803  0.011571   \n",
      "4    -0.002551 -0.005033  0.000679  ... -0.008826  0.069589 -0.014744   \n",
      "...        ...       ...       ...  ...       ...       ...       ...   \n",
      "1595 -0.021530  0.007020 -0.019727  ...  0.082787  0.034391  0.018606   \n",
      "1596  0.022215 -0.014099  0.030014  ... -0.001644  0.012295 -0.012500   \n",
      "1597  0.029922  0.022440  0.028742  ... -0.035783  0.020998  0.010582   \n",
      "1598  0.034688  0.016134  0.008010  ... -0.006104 -0.024574  0.004067   \n",
      "1599 -0.106904  0.003881 -0.057386  ... -0.006039 -0.035392  0.000678   \n",
      "\n",
      "       PCA_194   PCA_195   PCA_196   PCA_197   PCA_198   PCA_199  Label  \n",
      "0     0.022060 -0.016056  0.021826  0.002114  0.003046  0.046080      1  \n",
      "1     0.005107  0.022776 -0.008799 -0.009610  0.047735 -0.019446      1  \n",
      "2     0.009757  0.018674 -0.000679 -0.059665  0.040462  0.030350      1  \n",
      "3     0.055769  0.028108  0.030560  0.029758 -0.009498  0.035838      1  \n",
      "4     0.011373  0.030088  0.030123 -0.043694 -0.039829 -0.005463      1  \n",
      "...        ...       ...       ...       ...       ...       ...    ...  \n",
      "1595 -0.044670  0.022516  0.007765 -0.004566  0.039833  0.037834      0  \n",
      "1596  0.017619 -0.017865 -0.016410 -0.008695  0.030021  0.022123      0  \n",
      "1597 -0.016381  0.038596 -0.020419 -0.040657 -0.007343  0.074702      0  \n",
      "1598 -0.033177  0.012067 -0.060491 -0.031198  0.013300  0.097075      0  \n",
      "1599 -0.009808  0.007823 -0.007150  0.016928 -0.043656 -0.024748      0  \n",
      "\n",
      "[1600 rows x 201 columns]\n"
     ]
    }
   ],
   "source": [
    "import pandas as pd\n",
    "from sklearn.decomposition import PCA\n",
    "\n",
    "# Assuming Ptr1 and Ntr1 are your feature matrices for positive and negative samples respectively\n",
    "\n",
    "# Create dataframes for positive and negative samples with labels\n",
    "TrainVecPos = pd.DataFrame(Ptr1)\n",
    "TrainVecPos[\"Label\"] = 1\n",
    "\n",
    "TrainVecNeg = pd.DataFrame(Ntr1)\n",
    "TrainVecNeg[\"Label\"] = 0\n",
    "\n",
    "# Concatenate the positive and negative dataframes\n",
    "TrainVecSet3_pca = pd.concat([TrainVecPos, TrainVecNeg], axis=0)\n",
    "\n",
    "# Separate features (X) and labels (Y)\n",
    "Y = TrainVecSet3_pca['Label']\n",
    "X = TrainVecSet3_pca.drop(['Label'], axis=1)\n",
    "\n",
    "# Apply PCA to the features\n",
    "pca = PCA(n_components=200)\n",
    "X_pca = pca.fit_transform(X)\n",
    "\n",
    "# Create a new dataframe with reduced features and labels\n",
    "TrainVecSet3 = pd.DataFrame(X_pca, columns=[f\"PCA_{i}\" for i in range(X_pca.shape[1])])\n",
    "TrainVecSet3['Label'] = Y.reset_index(drop=True)  # Reset index of labels\n",
    "print(TrainVecSet3)\n"
   ]
  },
  {
   "cell_type": "markdown",
   "metadata": {},
   "source": [
    "## prepare training and test set"
   ]
  },
  {
   "cell_type": "code",
   "execution_count": 32,
   "metadata": {},
   "outputs": [
    {
     "name": "stdout",
     "output_type": "stream",
     "text": [
      "Train:(1200, 200) Labels Train: (1200, 1)\tTest:(400, 200) Labels Test: (400, 1) \n"
     ]
    }
   ],
   "source": [
    "# extracting training and test set \n",
    "from sklearn.model_selection import train_test_split\n",
    "from sklearn.preprocessing import StandardScaler\n",
    "\n",
    "# task: scale the data\n",
    "\n",
    "# Y is label: {1,0}\n",
    "Y = TrainVecSet3[['Label']]\n",
    "\n",
    "# X is everything without label\n",
    "X = TrainVecSet3.drop(['Label'], 1)\n",
    "\n",
    "# extract train and test set\n",
    "trainX, testX, trainY, testY = train_test_split(X, Y, test_size = .25)\n",
    "\n",
    "print(f\"Train:{trainX.shape} Labels Train: {trainY.shape}\\tTest:{testX.shape} Labels Test: {testY.shape} \")\n"
   ]
  },
  {
   "cell_type": "code",
   "execution_count": 33,
   "metadata": {},
   "outputs": [
    {
     "name": "stdout",
     "output_type": "stream",
     "text": [
      "Train:(1200, 200) Labels Train: (1200, 1)\tTest:(400, 200) Labels Test: (400, 1) \n"
     ]
    }
   ],
   "source": [
    "## scale \n",
    "scaler = StandardScaler()  \n",
    "\n",
    "# Fit only on training data\n",
    "scaler.fit(X)\n",
    "\n",
    "X_scale = scaler.transform(X)  \n",
    "\n",
    "# extract train and test set\n",
    "trainX, testX, trainY, testY = train_test_split(X_scale, Y, test_size = .25)\n",
    "\n",
    "print(f\"Train:{trainX.shape} Labels Train: {trainY.shape}\\tTest:{testX.shape} Labels Test: {testY.shape} \")\n"
   ]
  },
  {
   "cell_type": "markdown",
   "metadata": {},
   "source": [
    "# Training the Classifiers\n",
    "\n",
    "1. **Data Preprocessing**:\n",
    "   - After preprocessing the data as described earlier, including tokenization, removing stopwords, stemming, and potentially applying dimensionality reduction techniques like PCA, the data is now ready for training.\n",
    "   \n",
    "2. **Classifier Training**:\n",
    "     - Support Vector Machines (SVM)\n",
    "     - Random Forest\n",
    "     - Naive Bayes\n",
    "     - MLP\n",
    "   \n",
    "\n",
    "\n"
   ]
  },
  {
   "cell_type": "markdown",
   "metadata": {},
   "source": [
    "# Naive Bayesian Classifier "
   ]
  },
  {
   "cell_type": "code",
   "execution_count": 34,
   "metadata": {},
   "outputs": [
    {
     "name": "stdout",
     "output_type": "stream",
     "text": [
      "              precision    recall  f1-score   support\n",
      "\n",
      "         Neg       0.70      0.91      0.79       193\n",
      "         Pos       0.88      0.64      0.74       207\n",
      "\n",
      "    accuracy                           0.77       400\n",
      "   macro avg       0.79      0.77      0.77       400\n",
      "weighted avg       0.79      0.77      0.77       400\n",
      "\n",
      "Confusion Matrix:\n",
      " [[175  18]\n",
      " [ 74 133]]\n"
     ]
    },
    {
     "data": {
      "image/png": "[encoded data removed]",
      "text/plain": [
       "<Figure size 432x288 with 2 Axes>"
      ]
     },
     "metadata": {
      "needs_background": "light"
     },
     "output_type": "display_data"
    }
   ],
   "source": [
    "#Import Gaussian Naive Bayes model\n",
    "from sklearn.metrics import classification_report\n",
    "from sklearn.metrics import confusion_matrix\n",
    "from sklearn.naive_bayes import GaussianNB\n",
    "\n",
    "#Create a Gaussian Classifier\n",
    "NBmodel = GaussianNB()\n",
    "\n",
    "# Train the model using the training sets\n",
    "NBmodel.fit(trainX, trainY[\"Label\"])\n",
    "\n",
    "#Predict Output\n",
    "Y_Bayes = NBmodel.predict(testX)\n",
    "\n",
    "target_names = ['Neg', 'Pos']\n",
    "print(classification_report(testY[\"Label\"], Y_Bayes, target_names=target_names))\n",
    "print(\"Confusion Matrix:\\n\", confusion_matrix(y_true=testY[\"Label\"], y_pred=Y_Bayes))\n",
    "\n",
    "fig = plot_confusion_matrix(NBmodel, testX, testY, display_labels=NBmodel.classes_)\n",
    "fig.figure_.suptitle(\"Confusion Matrix\")\n",
    "plt.show()\n"
   ]
  },
  {
   "cell_type": "markdown",
   "metadata": {},
   "source": [
    "### 10-Fold Cross-Validation (will be applied for all classifiers)\n",
    "\n",
    "1. **Small Sample Size Consideration**:\n",
    "   - Due to the relatively small sample size of the dataset, traditional train-test splitting may result in high variance in model performance metrics. Cross-validation techniques are employed to mitigate this issue and obtain more reliable estimates of model performance.\n",
    "\n",
    "2. **Choice of Cross-Validation Technique**:\n",
    "   - Leave-One-Out (LOO) cross-validation, where each sample is used as a separate test set, theoretically provides the most accurate estimation of model performance. However, it can be computationally expensive, especially for larger datasets. In this case, with a relatively small dataset, 10-fold cross-validation is chosen as a compromise between accuracy and computational efficiency.\n",
    "\n",
    ".\n",
    "\n",
    "3. **Benefits of 10-Fold Cross-Validation**:\n",
    "   - 10-fold cross-validation provides a robust estimation of model performance while being computationally more efficient than LOO cross-validation.\n",
    "   - It helps in assessing the generalization capability of the model and identifying potential overfitting or underfitting issues.\n",
    "   \n",
    "\n",
    "4. **Empirical Validation of 10-Fold Cross-Validation**:\n",
    "   - Through empirical testing, it has been found that 10-fold cross-validation yields accurate estimates of model performance while being significantly faster than LOO cross-validation.\n"
   ]
  },
  {
   "cell_type": "code",
   "execution_count": 35,
   "metadata": {},
   "outputs": [
    {
     "name": "stdout",
     "output_type": "stream",
     "text": [
      "Cross-validation results:\n",
      "{'fit_time': 0.011481356620788575, 'score_time': 0.010443854331970214, 'test_accuracy': 0.73375, 'test_precision_neg': 0.6914002736469745, 'test_precision_pos': 0.8043613943311367, 'test_recall_neg': 0.85, 'test_recall_pos': 0.6175, 'test_f1_score': 0.697203193679732}\n"
     ]
    }
   ],
   "source": [
    "from sklearn.model_selection import cross_validate\n",
    "from sklearn.model_selection import StratifiedKFold\n",
    "from sklearn.metrics import make_scorer, precision_score, recall_score, f1_score\n",
    "\n",
    "# Import necessary modules\n",
    "from sklearn.naive_bayes import GaussianNB\n",
    "from sklearn.preprocessing import StandardScaler\n",
    "from sklearn.model_selection import train_test_split\n",
    "\n",
    "# Define custom scoring functions for precision and recall for positive and negative classes\n",
    "def precision_neg(y_true, y_pred):\n",
    "    return precision_score(y_true, y_pred, pos_label=0)  # Negative class label is 0\n",
    "\n",
    "def precision_pos(y_true, y_pred):\n",
    "    return precision_score(y_true, y_pred, pos_label=1)  # Positive class label is 1\n",
    "\n",
    "def recall_neg(y_true, y_pred):\n",
    "    return recall_score(y_true, y_pred, pos_label=0)  # Negative class label is 0\n",
    "\n",
    "def recall_pos(y_true, y_pred):\n",
    "    return recall_score(y_true, y_pred, pos_label=1)  # Positive class label is 1\n",
    "\n",
    "# Extract labels (Y) and features (X)\n",
    "Y = TrainVecSet3[['Label']]\n",
    "X = TrainVecSet3.drop(['Label'], 1)\n",
    "\n",
    "# Scale the features\n",
    "scaler = StandardScaler()\n",
    "scaler.fit(X)\n",
    "X_scaled = scaler.transform(X)\n",
    "\n",
    "# Create a Gaussian Classifier\n",
    "NBmodel = GaussianNB()\n",
    "\n",
    "# Define cross-validation strategy\n",
    "cv = StratifiedKFold(n_splits=10, shuffle=True, random_state=42)\n",
    "\n",
    "\n",
    "\n",
    "# Perform cross-validation\n",
    "cross_val_results = cross_validate(NBmodel, X_scaled, Y[\"Label\"], cv=cv, scoring=scoring)\n",
    "\n",
    "results_NB = {}\n",
    "# Print the cross-validation results\n",
    "print(\"Cross-validation results:\")\n",
    "for metric, values in cross_val_results.items():\n",
    "    results_NB[metric] = values.mean()\n",
    "print(results_NB)\n"
   ]
  },
  {
   "cell_type": "markdown",
   "metadata": {},
   "source": [
    "# Random Forest"
   ]
  },
  {
   "cell_type": "code",
   "execution_count": 36,
   "metadata": {},
   "outputs": [
    {
     "name": "stdout",
     "output_type": "stream",
     "text": [
      "              precision    recall  f1-score   support\n",
      "\n",
      "         Neg       0.78      0.89      0.83       193\n",
      "         Pos       0.88      0.77      0.82       207\n",
      "\n",
      "    accuracy                           0.82       400\n",
      "   macro avg       0.83      0.83      0.82       400\n",
      "weighted avg       0.83      0.82      0.82       400\n",
      "\n",
      "Confusion Matrix:\n",
      " [[171  22]\n",
      " [ 48 159]]\n"
     ]
    },
    {
     "data": {
      "text/html": [
       "<div>\n",
       "<style scoped>\n",
       "    .dataframe tbody tr th:only-of-type {\n",
       "        vertical-align: middle;\n",
       "    }\n",
       "\n",
       "    .dataframe tbody tr th {\n",
       "        vertical-align: top;\n",
       "    }\n",
       "\n",
       "    .dataframe thead th {\n",
       "        text-align: right;\n",
       "    }\n",
       "</style>\n",
       "<table border=\"1\" class=\"dataframe\">\n",
       "  <thead>\n",
       "    <tr style=\"text-align: right;\">\n",
       "      <th></th>\n",
       "      <th>importance</th>\n",
       "    </tr>\n",
       "  </thead>\n",
       "  <tbody>\n",
       "    <tr>\n",
       "      <th>2</th>\n",
       "      <td>0.096882</td>\n",
       "    </tr>\n",
       "    <tr>\n",
       "      <th>0</th>\n",
       "      <td>0.060857</td>\n",
       "    </tr>\n",
       "    <tr>\n",
       "      <th>10</th>\n",
       "      <td>0.023212</td>\n",
       "    </tr>\n",
       "    <tr>\n",
       "      <th>3</th>\n",
       "      <td>0.019613</td>\n",
       "    </tr>\n",
       "    <tr>\n",
       "      <th>9</th>\n",
       "      <td>0.019073</td>\n",
       "    </tr>\n",
       "    <tr>\n",
       "      <th>...</th>\n",
       "      <td>...</td>\n",
       "    </tr>\n",
       "    <tr>\n",
       "      <th>75</th>\n",
       "      <td>0.002460</td>\n",
       "    </tr>\n",
       "    <tr>\n",
       "      <th>97</th>\n",
       "      <td>0.002430</td>\n",
       "    </tr>\n",
       "    <tr>\n",
       "      <th>109</th>\n",
       "      <td>0.002416</td>\n",
       "    </tr>\n",
       "    <tr>\n",
       "      <th>107</th>\n",
       "      <td>0.002369</td>\n",
       "    </tr>\n",
       "    <tr>\n",
       "      <th>66</th>\n",
       "      <td>0.002180</td>\n",
       "    </tr>\n",
       "  </tbody>\n",
       "</table>\n",
       "<p>200 rows × 1 columns</p>\n",
       "</div>"
      ],
      "text/plain": [
       "     importance\n",
       "2      0.096882\n",
       "0      0.060857\n",
       "10     0.023212\n",
       "3      0.019613\n",
       "9      0.019073\n",
       "..          ...\n",
       "75     0.002460\n",
       "97     0.002430\n",
       "109    0.002416\n",
       "107    0.002369\n",
       "66     0.002180\n",
       "\n",
       "[200 rows x 1 columns]"
      ]
     },
     "execution_count": 36,
     "metadata": {},
     "output_type": "execute_result"
    }
   ],
   "source": [
    "# Import the model we are using\n",
    "from sklearn.ensemble import RandomForestClassifier\n",
    "\n",
    "# Instantiate model with 100 decision trees\n",
    "rf = RandomForestClassifier(n_estimators = 100, random_state = 42)\n",
    "\n",
    "# Train the model on training data\n",
    "rf.fit(trainX, trainY[\"Label\"]);\n",
    "\n",
    "# Use the forest's predict method on the test data\n",
    "Y_rf = rf.predict(testX)\n",
    "\n",
    "target_names = ['Neg', 'Pos']\n",
    "print(classification_report(testY[\"Label\"], Y_rf, target_names=target_names))\n",
    "print(\"Confusion Matrix:\\n\", confusion_matrix(y_true=testY[\"Label\"], y_pred=Y_rf))\n",
    "\n",
    "# print feature Importances\n",
    "feature_importances = pd.DataFrame(rf.feature_importances_,\n",
    "                                   columns=['importance']).sort_values('importance', ascending=False)\n",
    "feature_importances \n"
   ]
  },
  {
   "cell_type": "code",
   "execution_count": 37,
   "metadata": {},
   "outputs": [
    {
     "name": "stdout",
     "output_type": "stream",
     "text": [
      "Cross-validation results:\n",
      "{'fit_time': 1.4755953550338745, 'score_time': 0.031944680213928225, 'test_accuracy': 0.83375, 'test_precision_neg': 0.8167987265223691, 'test_precision_pos': 0.8543962778539411, 'test_recall_neg': 0.8625, 'test_recall_pos': 0.805, 'test_f1_score': 0.8283971277316317}\n"
     ]
    }
   ],
   "source": [
    "\n",
    "# Create a Gaussian Classifier\n",
    "rf = RandomForestClassifier(n_estimators = 100, random_state = 42)\n",
    "\n",
    "# Define cross-validation strategy\n",
    "cv = StratifiedKFold(n_splits=10, shuffle=True, random_state=42)\n",
    "\n",
    "\n",
    "\n",
    "# Perform cross-validation\n",
    "cross_val_results = cross_validate(rf, X_scaled, Y[\"Label\"], cv=cv, scoring=scoring)\n",
    "\n",
    "results_RF = {}\n",
    "print(\"Cross-validation results:\")\n",
    "for metric, values in cross_val_results.items():\n",
    "    results_RF[metric] = values.mean()\n",
    "print(results_RF)"
   ]
  },
  {
   "cell_type": "markdown",
   "metadata": {},
   "source": [
    "# Support Vector Machine (SVM)"
   ]
  },
  {
   "cell_type": "code",
   "execution_count": 38,
   "metadata": {},
   "outputs": [
    {
     "name": "stdout",
     "output_type": "stream",
     "text": [
      "              precision    recall  f1-score   support\n",
      "\n",
      "         Neg       0.84      0.82      0.83       193\n",
      "         Pos       0.84      0.85      0.84       207\n",
      "\n",
      "    accuracy                           0.84       400\n",
      "   macro avg       0.84      0.84      0.84       400\n",
      "weighted avg       0.84      0.84      0.84       400\n",
      "\n",
      "Confusion Matrix:\n",
      " [[159  34]\n",
      " [ 31 176]]\n"
     ]
    }
   ],
   "source": [
    "#Import svm model\n",
    "from sklearn import svm\n",
    "\n",
    "#Create a svm Classifier\n",
    "clf = svm.SVC(kernel='linear') # Linear Kernel\n",
    "\n",
    "#Train the model using the training sets\n",
    "clf.fit(trainX, trainY[\"Label\"])\n",
    "\n",
    "#Predict the response for test dataset\n",
    "Y_clf = clf.predict(testX)\n",
    "\n",
    "target_names = ['Neg', 'Pos']\n",
    "print(classification_report(testY[\"Label\"], Y_clf, target_names=target_names))\n",
    "print(\"Confusion Matrix:\\n\", confusion_matrix(y_true=testY[\"Label\"], y_pred=Y_clf))\n"
   ]
  },
  {
   "cell_type": "code",
   "execution_count": 39,
   "metadata": {},
   "outputs": [
    {
     "name": "stdout",
     "output_type": "stream",
     "text": [
      "{'fit_time': 1.510220217704773, 'score_time': 0.015273094177246094, 'test_accuracy': 0.8631249999999999, 'test_precision_neg': 0.8641430963424138, 'test_precision_pos': 0.8632857859678122, 'test_recall_neg': 0.8625, 'test_recall_pos': 0.8637500000000001, 'test_f1_score': 0.8631811437403378}\n"
     ]
    }
   ],
   "source": [
    "\n",
    "# Create a Gaussian Classifier\n",
    "clf2 = svm.SVC(kernel='linear') # Linear Kernel\n",
    "\n",
    "# Define cross-validation strategy\n",
    "cv = StratifiedKFold(n_splits=10, shuffle=True, random_state=42)\n",
    "\n",
    "\n",
    "\n",
    "# Perform cross-validation\n",
    "cross_val_results = cross_validate(clf2, X_scaled, Y[\"Label\"], cv=cv, scoring=scoring)\n",
    "\n",
    "# Print the cross-validation results\n",
    "results_SVM = {}\n",
    "for metric, values in cross_val_results.items():\n",
    "    results_SVM[metric] = values.mean()\n",
    "print(results_SVM)"
   ]
  },
  {
   "cell_type": "markdown",
   "metadata": {},
   "source": [
    "# MLP"
   ]
  },
  {
   "cell_type": "code",
   "execution_count": 40,
   "metadata": {},
   "outputs": [
    {
     "name": "stdout",
     "output_type": "stream",
     "text": [
      "              precision    recall  f1-score   support\n",
      "\n",
      "         Neg       0.83      0.83      0.83       193\n",
      "         Pos       0.84      0.84      0.84       207\n",
      "\n",
      "    accuracy                           0.83       400\n",
      "   macro avg       0.83      0.83      0.83       400\n",
      "weighted avg       0.84      0.83      0.84       400\n",
      "\n",
      "Confusion Matrix:\n",
      " [[161  32]\n",
      " [ 34 173]]\n"
     ]
    }
   ],
   "source": [
    "from sklearn.neural_network import MLPClassifier\n",
    "\n",
    "# instatiate classifier\n",
    "mlp = MLPClassifier(solver='adam', alpha=1e-5, hidden_layer_sizes=(100,100), random_state=1)\n",
    "\n",
    "mlp.fit(trainX, trainY[\"Label\"])\n",
    "\n",
    "pred_Y = mlp.predict(testX)\n",
    "\n",
    "target_names = ['Neg', 'Pos']\n",
    "print(classification_report(testY[\"Label\"], pred_Y, target_names=target_names))\n",
    "print(\"Confusion Matrix:\\n\", confusion_matrix(y_true=testY[\"Label\"], y_pred=pred_Y))"
   ]
  },
  {
   "cell_type": "code",
   "execution_count": 41,
   "metadata": {},
   "outputs": [
    {
     "name": "stdout",
     "output_type": "stream",
     "text": [
      "{'fit_time': 0.992253303527832, 'score_time': 0.01322622299194336, 'test_accuracy': 0.86, 'test_precision_neg': 0.8581813194056013, 'test_precision_pos': 0.8645008818342153, 'test_recall_neg': 0.865, 'test_recall_pos': 0.8549999999999999, 'test_f1_score': 0.8588989114938339}\n"
     ]
    }
   ],
   "source": [
    "mlp2 = MLPClassifier(solver='adam', alpha=1e-5, hidden_layer_sizes=(100,100), random_state=1)\n",
    "# Define cross-validation strategy\n",
    "cv = StratifiedKFold(n_splits=10, shuffle=True, random_state=42)\n",
    "\n",
    "\n",
    "\n",
    "# Perform cross-validation\n",
    "cross_val_results = cross_validate(mlp2, X_scaled, Y[\"Label\"], cv=cv, scoring=scoring)\n",
    "\n",
    "# Print the cross-validation results\n",
    "results_MLP = {}\n",
    "for metric, values in cross_val_results.items():\n",
    "    results_MLP[metric] = values.mean()\n",
    "print(results_MLP)"
   ]
  },
  {
   "cell_type": "markdown",
   "metadata": {},
   "source": [
    "# Visualization of Precision and Recall for Various Classifiers\n",
    "This script uses matplotlib.pyplot to create bar plots that compare the precision and recall scores for different classifiers. The plots illustrate the performance of four classifiers—Naive Bayes, Random Forest, Support Vector Machine (SVM), and Multi-Layer Perceptron (MLP)—in terms of precision and recall for both positive and negative classes.\n",
    "\n",
    "## Grouped Bar Plot for Precision\n",
    "To visualize precision, a grouped bar plot is created:\n",
    "- **bar_width**: Width of each bar in the plot.\n",
    "- **r1**: X positions for the first set of bars (corresponding to positive class precision).\n",
    "- **r2**: X positions for the second set of bars (corresponding to negative class precision). \n",
    "\n",
    "## Similarily a Grouped Bar Plot is created for recall\n",
    "\n",
    "## Results:\n",
    "Generally, we noticed that SVM and MLP classifiers results are close to each other and they had the highest precision and recall compared to all the classifiers used (except the stacking classifier which had the highest accuracy). "
   ]
  },
  {
   "cell_type": "code",
   "execution_count": 42,
   "metadata": {},
   "outputs": [
    {
     "data": {
      "image/png": "[encoded data removed]",
      "text/plain": [
       "<Figure size 720x432 with 1 Axes>"
      ]
     },
     "metadata": {
      "needs_background": "light"
     },
     "output_type": "display_data"
    },
    {
     "data": {
      "image/png": "[encoded data removed]",
      "text/plain": [
       "<Figure size 720x432 with 1 Axes>"
      ]
     },
     "metadata": {
      "needs_background": "light"
     },
     "output_type": "display_data"
    }
   ],
   "source": [
    "import matplotlib.pyplot as plt\n",
    "\n",
    "classifiers = ['Naive Bayes', 'Random Forest', 'SVM', 'MLP']\n",
    "precision_pos_scores = [results_NB['test_precision_pos'], results_RF['test_precision_pos'], results_SVM['test_precision_pos'], results_MLP['test_precision_pos']]\n",
    "precision_neg_scores = [results_NB['test_precision_neg'], results_RF['test_precision_neg'], results_SVM['test_precision_neg'], results_MLP['test_precision_neg']]\n",
    "\n",
    "recall_pos_scores = [results_NB['test_recall_pos'], results_RF['test_recall_pos'], results_SVM['test_recall_pos'], results_MLP['test_recall_pos']]\n",
    "recall_neg_scores = [results_NB['test_recall_neg'], results_RF['test_recall_neg'], results_SVM['test_recall_neg'], results_MLP['test_recall_neg']]\n",
    "\n",
    "# Set the width of the bars\n",
    "bar_width = 0.35\n",
    "\n",
    "# Set the x locations for the groups\n",
    "r1 = range(len(classifiers))\n",
    "r2 = [x + bar_width for x in r1]\n",
    "\n",
    "# Plot the grouped bar plot for precision\n",
    "plt.figure(figsize=(10, 6))\n",
    "plt.bar(r1, precision_pos_scores, color='blue', width=bar_width, edgecolor='grey', label='Precision (Positive class)')\n",
    "plt.bar(r2, precision_neg_scores, color='red', width=bar_width, edgecolor='grey', label='Precision (Negative class)')\n",
    "\n",
    "# Add xticks on the middle of the group bars\n",
    "plt.xlabel('Classifier', fontweight='bold')\n",
    "plt.xticks([r + bar_width/2 for r in range(len(classifiers))], classifiers)\n",
    "\n",
    "# Add y label\n",
    "plt.ylabel('Precision', fontweight='bold')\n",
    "\n",
    "# Add title\n",
    "plt.title('Precision for Positive and Negative Classes by Classifier')\n",
    "\n",
    "# Add legend\n",
    "plt.legend()\n",
    "\n",
    "# Show plot\n",
    "plt.show()\n",
    "\n",
    "# Plot the grouped bar plot for recall\n",
    "plt.figure(figsize=(10, 6))\n",
    "plt.bar(r1, recall_pos_scores, color='blue', width=bar_width, edgecolor='grey', label='Recall (Positive class)')\n",
    "plt.bar(r2, recall_neg_scores, color='red', width=bar_width, edgecolor='grey', label='Recall (Negative class)')\n",
    "\n",
    "# Add xticks on the middle of the group bars\n",
    "plt.xlabel('Classifier', fontweight='bold')\n",
    "plt.xticks([r + bar_width/2 for r in range(len(classifiers))], classifiers)\n",
    "\n",
    "# Add y label\n",
    "plt.ylabel('Recall', fontweight='bold')\n",
    "\n",
    "# Add title\n",
    "plt.title('Recall for Positive and Negative Classes by Classifier')\n",
    "\n",
    "# Add legend\n",
    "plt.legend()\n",
    "\n",
    "# Show plot\n",
    "plt.show()"
   ]
  },
  {
   "cell_type": "markdown",
   "metadata": {},
   "source": [
    "# Added the stacking method to improve accuracy\n",
    "\n",
    "## About the method:\n",
    "One way to improve accuracy is to implement stacking. This method generally combines the results of multiple classifiers to improve accuracy. The key advantage of stacking is that it leverages the strengths of multiple models, potentially reducing individual weaknesses and increasing accuracy.\n",
    "\n",
    "## Steps:\n",
    "1. **Base Models**: In stacking, you start by training multiple base models on the same dataset. In our case we chose: Naive Bayes, Random Forest, and SVM to be our base models.\n",
    "2. **Meta-Model**: After training the base models, their predictions are used to create a new dataset. This dataset is then used to train a meta-model. The inputs to the meta-model are the predictions from the base models, and the outputs are the actual target values. In our case, the meta model was MLP.\n",
    "3. **Final Prediction**: Once the meta-model is trained, it can be used to make predictions on new data. Typically, the base models make predictions, and then the meta-model combines these predictions to produce a final output.\n"
   ]
  },
  {
   "cell_type": "code",
   "execution_count": 44,
   "metadata": {},
   "outputs": [
    {
     "name": "stdout",
     "output_type": "stream",
     "text": [
      "              precision    recall  f1-score   support\n",
      "\n",
      "         Neg       0.83      0.92      0.87       193\n",
      "         Pos       0.91      0.83      0.87       207\n",
      "\n",
      "    accuracy                           0.87       400\n",
      "   macro avg       0.87      0.87      0.87       400\n",
      "weighted avg       0.87      0.87      0.87       400\n",
      "\n",
      "Confusion Matrix:\n",
      " [[177  16]\n",
      " [ 36 171]]\n"
     ]
    }
   ],
   "source": [
    "from sklearn.ensemble import StackingClassifier\n",
    "\n",
    "# Define base classifiers\n",
    "base_classifiers = [\n",
    "    ('naive_bayes', GaussianNB()),  # Naïve Bayes\n",
    "    ('random_forest', RandomForestClassifier(n_estimators=100, random_state=42)),  # Random Forest\n",
    "    ('svm', svm.SVC(kernel='linear'))  # SVM\n",
    "]\n",
    "\n",
    "# Define meta-classifier\n",
    "meta_classifier = MLPClassifier(solver='adam', alpha=1e-5, hidden_layer_sizes=(100, 100), random_state=1)\n",
    "\n",
    "# Create stacking classifier with base classifiers and MLP as meta\n",
    "stacking_classifier = StackingClassifier(estimators=base_classifiers, final_estimator=meta_classifier, cv=10)\n",
    "\n",
    "# Train the stacking classifier on the training data\n",
    "stacking_classifier.fit(trainX, trainY[\"Label\"])\n",
    "\n",
    "# Make predictions on the test data\n",
    "pred_Y = stacking_classifier.predict(testX)\n",
    "\n",
    "# Output classification report and confusion matrix\n",
    "target_names = ['Neg', 'Pos']\n",
    "print(classification_report(testY[\"Label\"], pred_Y, target_names=target_names))\n",
    "print(\"Confusion Matrix:\\n\", confusion_matrix(testY[\"Label\"], pred_Y))\n"
   ]
  }
 ],
 "metadata": {
  "kernelspec": {
   "display_name": "Python 3",
   "language": "python",
   "name": "python3"
  },
  "language_info": {
   "codemirror_mode": {
    "name": "ipython",
    "version": 3
   },
   "file_extension": ".py",
   "mimetype": "text/x-python",
   "name": "python",
   "nbconvert_exporter": "python",
   "pygments_lexer": "ipython3",
   "version": "3.6.8"
  }
 },
 "nbformat": 4,
 "nbformat_minor": 2
}
